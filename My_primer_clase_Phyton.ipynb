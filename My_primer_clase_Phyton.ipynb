{
  "nbformat": 4,
  "nbformat_minor": 0,
  "metadata": {
    "colab": {
      "name": "My primer clase Phyton.ipynb",
      "provenance": [],
      "authorship_tag": "ABX9TyO8QCRbu2uV+QerU5KwZytE",
      "include_colab_link": true
    },
    "kernelspec": {
      "name": "python3",
      "display_name": "Python 3"
    },
    "language_info": {
      "name": "python"
    }
  },
  "cells": [
    {
      "cell_type": "markdown",
      "metadata": {
        "id": "view-in-github",
        "colab_type": "text"
      },
      "source": [
        "<a href=\"https://colab.research.google.com/github/Sant19Rom/CGeo-UNAM/blob/master/My_primer_clase_Phyton.ipynb\" target=\"_parent\"><img src=\"https://colab.research.google.com/assets/colab-badge.svg\" alt=\"Open In Colab\"/></a>"
      ]
    },
    {
      "cell_type": "code",
      "execution_count": null,
      "metadata": {
        "id": "5F67etxcPIfo"
      },
      "outputs": [],
      "source": [
        ""
      ]
    },
    {
      "cell_type": "markdown",
      "source": [
        "Mi primer clase Phyton"
      ],
      "metadata": {
        "id": "OuGJsyNcPKQa"
      }
    },
    {
      "cell_type": "code",
      "source": [
        "x=2"
      ],
      "metadata": {
        "id": "TPx3AEaYPP3T"
      },
      "execution_count": 4,
      "outputs": []
    },
    {
      "cell_type": "code",
      "source": [
        "y=3"
      ],
      "metadata": {
        "id": "7PTC4SlbPerX"
      },
      "execution_count": 1,
      "outputs": []
    },
    {
      "cell_type": "code",
      "source": [
        "x+y"
      ],
      "metadata": {
        "colab": {
          "base_uri": "https://localhost:8080/"
        },
        "id": "KLj2lUa5PhLX",
        "outputId": "a40f927e-1e28-481d-8385-aa18c0b6a656"
      },
      "execution_count": 5,
      "outputs": [
        {
          "data": {
            "text/plain": [
              "5"
            ]
          },
          "execution_count": null,
          "metadata": {},
          "output_type": "execute_result"
        }
      ]
    }
  ]
}