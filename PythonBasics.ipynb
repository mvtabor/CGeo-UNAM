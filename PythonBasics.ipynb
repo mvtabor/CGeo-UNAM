{
  "nbformat": 4,
  "nbformat_minor": 0,
  "metadata": {
    "colab": {
      "name": "PythonBasics.ipynb",
      "provenance": [],
      "collapsed_sections": [],
      "include_colab_link": true
    },
    "kernelspec": {
      "name": "python3",
      "display_name": "Python 3"
    },
    "language_info": {
      "name": "python"
    }
  },
  "cells": [
    {
      "cell_type": "markdown",
      "metadata": {
        "id": "view-in-github",
        "colab_type": "text"
      },
      "source": [
        "<a href=\"https://colab.research.google.com/github/Sant19Rom/CGeo-UNAM/blob/master/PythonBasics.ipynb\" target=\"_parent\"><img src=\"https://colab.research.google.com/assets/colab-badge.svg\" alt=\"Open In Colab\"/></a>"
      ]
    },
    {
      "cell_type": "markdown",
      "source": [
        "# Python Basics\n",
        "\n",
        "Here you will find the basics about Python language. This is a good place to make your first script 😉\n",
        "\n",
        "First of all, we are going to start with the Python phylosophy. \n",
        "\n",
        "How? Let's see below 👇"
      ],
      "metadata": {
        "id": "OfixNXfdGWED"
      }
    },
    {
      "cell_type": "code",
      "execution_count": null,
      "metadata": {
        "colab": {
          "base_uri": "https://localhost:8080/"
        },
        "id": "QHB33gBnFc9C",
        "outputId": "841c7d20-7bd0-4408-fa4d-2aaf2026f28f"
      },
      "outputs": [
        {
          "output_type": "stream",
          "name": "stdout",
          "text": [
            "The Zen of Python, by Tim Peters\n",
            "\n",
            "Beautiful is better than ugly.\n",
            "Explicit is better than implicit.\n",
            "Simple is better than complex.\n",
            "Complex is better than complicated.\n",
            "Flat is better than nested.\n",
            "Sparse is better than dense.\n",
            "Readability counts.\n",
            "Special cases aren't special enough to break the rules.\n",
            "Although practicality beats purity.\n",
            "Errors should never pass silently.\n",
            "Unless explicitly silenced.\n",
            "In the face of ambiguity, refuse the temptation to guess.\n",
            "There should be one-- and preferably only one --obvious way to do it.\n",
            "Although that way may not be obvious at first unless you're Dutch.\n",
            "Now is better than never.\n",
            "Although never is often better than *right* now.\n",
            "If the implementation is hard to explain, it's a bad idea.\n",
            "If the implementation is easy to explain, it may be a good idea.\n",
            "Namespaces are one honking great idea -- let's do more of those!\n"
          ]
        }
      ],
      "source": [
        "import this"
      ]
    },
    {
      "cell_type": "markdown",
      "source": [
        "Now you have a brief overview of what is Python and how it can help you to achieve your goals and test your ideas."
      ],
      "metadata": {
        "id": "VFSIO4buHe7C"
      }
    },
    {
      "cell_type": "markdown",
      "source": [
        "## We are going to start from the beggining: Variables\n",
        "\n",
        "Variables is the way to load or save information in your scripts.\n",
        "\n",
        "How to use it?\n",
        "\n",
        "`variable_name asignment value`\n",
        "\n",
        "`variable_name = Number | String | Boolean | Other`"
      ],
      "metadata": {
        "id": "r5SmZwTHHqsU"
      }
    },
    {
      "cell_type": "code",
      "source": [
        "#Number\n",
        "pepe_age = 24\n",
        "\n",
        "#String\n",
        "book_title = 'This is the tiitle of the book'\n",
        "\n",
        "#Boolean\n",
        "is_maria_married = False\n",
        "is_maria_married = True"
      ],
      "metadata": {
        "id": "q310naDEH2-E"
      },
      "execution_count": null,
      "outputs": []
    },
    {
      "cell_type": "markdown",
      "source": [
        "## What can I do with variables?"
      ],
      "metadata": {
        "id": "BXYIWNx0LSzE"
      }
    },
    {
      "cell_type": "code",
      "source": [
        "# When Pepe has born?\n",
        "\n",
        "born_year = 2022 - pepe_age\n",
        "\n",
        "print('Pepe was born in {0}: Pepe has {1}'.format(born_year, pepe_age))\n",
        "\n",
        "# What is the main information of the book?\n",
        "\n",
        "book_summary = 'This is the book\\'s summary'\n",
        "\n",
        "main_book = book_title + ' -- ' + book_summary\n",
        "\n",
        "print('The main information of the book is: {0}'.format(main_book))\n"
      ],
      "metadata": {
        "colab": {
          "base_uri": "https://localhost:8080/"
        },
        "id": "rQxbyW9tLW8B",
        "outputId": "685facc5-ff4b-4819-8901-8bf890558ab1"
      },
      "execution_count": null,
      "outputs": [
        {
          "output_type": "stream",
          "name": "stdout",
          "text": [
            "Pepe was born in 1998: Pepe has 24\n",
            "The main information of the book is: This is the tiitle of the book -- This is the book's summary\n"
          ]
        }
      ]
    },
    {
      "cell_type": "markdown",
      "source": [
        "# Formatting\n",
        "\n",
        "In Python, the way to make an understandable code is the **INDENTATION**\n",
        "\n",
        "If you don't use the indentation regarding to the Python rules, you will get an error."
      ],
      "metadata": {
        "id": "bn1r2iscNZCP"
      }
    },
    {
      "cell_type": "code",
      "source": [
        "if pepe_age == 24:\n",
        "  print('Pepe has 24')\n",
        "  if born_year == 1998:\n",
        "    print('Pepe was born in 1998')"
      ],
      "metadata": {
        "colab": {
          "base_uri": "https://localhost:8080/"
        },
        "id": "OyHPh4ADNbms",
        "outputId": "b16d7b40-8f8d-473c-8b76-776f528a2c0b"
      },
      "execution_count": null,
      "outputs": [
        {
          "output_type": "stream",
          "name": "stdout",
          "text": [
            "Pepe has 24\n",
            "Pepe was born in 1998\n"
          ]
        }
      ]
    },
    {
      "cell_type": "code",
      "source": [
        "if pepe_age == 24:\n",
        "print('Pepe has 24')\n",
        "if born_year == 1998:\n",
        "print('Pepe was born in 1998')"
      ],
      "metadata": {
        "colab": {
          "base_uri": "https://localhost:8080/",
          "height": 130
        },
        "id": "ETt_LJySxUFf",
        "outputId": "f3dd2827-6935-45ff-b8ea-a82cd6cc0f17"
      },
      "execution_count": null,
      "outputs": [
        {
          "output_type": "error",
          "ename": "IndentationError",
          "evalue": "ignored",
          "traceback": [
            "\u001b[0;36m  File \u001b[0;32m\"<ipython-input-1-818bae375835>\"\u001b[0;36m, line \u001b[0;32m2\u001b[0m\n\u001b[0;31m    print('Pepe has 24')\u001b[0m\n\u001b[0m        ^\u001b[0m\n\u001b[0;31mIndentationError\u001b[0m\u001b[0;31m:\u001b[0m expected an indented block\n"
          ]
        }
      ]
    },
    {
      "cell_type": "markdown",
      "source": [
        "# Functions\n",
        "\n",
        "To define a function you will need to use the following format:\n",
        "\n",
        "```\n",
        "def function_name ():\n",
        "    code here\n",
        "\n",
        "def function_name (parameter):\n",
        "    code here\n",
        "\n",
        "def function_name (parameter=default_value):\n",
        "    code here\n",
        "  ```"
      ],
      "metadata": {
        "id": "wdKsm0_wOk0W"
      }
    },
    {
      "cell_type": "code",
      "source": [
        "def sum(a, b):\n",
        "  \"\"\"\n",
        "  Returns the result of sum a and b\n",
        "\n",
        "  Params:\n",
        "    a: First number\n",
        "    b: Second number\n",
        "\n",
        "  Return:\n",
        "    result of a + b\n",
        "  \"\"\"\n",
        "  result = a + b\n",
        "  return a + b\n",
        "\n",
        "res = sum(2, 2)\n",
        "print('Sum result is: {0}'.format(res))\n",
        "\n",
        "def substraction(a, b):\n",
        "  \"\"\"\n",
        "  Returns the result of substract a and b\n",
        "\n",
        "  Params:\n",
        "    a: First number\n",
        "    b: Second number\n",
        "\n",
        "  Return:\n",
        "    result of a - b\n",
        "  \"\"\"\n",
        "  return a - b \n",
        "\n",
        "res = substraction(2, 2)\n",
        "print('Substraction result is: {0}'.format(res))\n",
        "\n",
        "def mult(a, b):\n",
        "  \"\"\"\n",
        "  Returns the result of multiply a and b\n",
        "\n",
        "  Params:\n",
        "    a: First number\n",
        "    b: Second number\n",
        "\n",
        "  Return:\n",
        "    result of a * b\n",
        "  \"\"\"\n",
        "  return a * b \n",
        "\n",
        "res = mult(2, 2)\n",
        "print('Mult result is: {0}'.format(res))\n",
        "\n",
        "def div(a, b):\n",
        "  \"\"\"\n",
        "  Returns the result of divide a and b\n",
        "\n",
        "  Params:\n",
        "    a: First number\n",
        "    b: Second number\n",
        "\n",
        "  Return:\n",
        "    result of a / b\n",
        "  \"\"\"\n",
        "  return a / b \n",
        "\n",
        "res = div(2, 2)\n",
        "print('Div result is: {0}'.format(res))\n"
      ],
      "metadata": {
        "colab": {
          "base_uri": "https://localhost:8080/"
        },
        "id": "Lns48kQVOuZL",
        "outputId": "f3039d87-c4ca-47ac-db09-9935bed020dd"
      },
      "execution_count": null,
      "outputs": [
        {
          "output_type": "stream",
          "name": "stdout",
          "text": [
            "el resultado de la suma es 4\n",
            "el resultado de la resta es 0\n",
            "el resultado de la multipilcacion 4\n",
            "el resulado de la division es 1.0\n"
          ]
        }
      ]
    },
    {
      "cell_type": "markdown",
      "source": [
        "# Control Structures\n",
        "\n",
        "There are many different control structures to define the script flow:\n",
        "\n",
        "* Conditionals\n",
        "* Loops\n",
        "\n",
        "## Conditionals\n",
        "\n",
        "```\n",
        "if condition:\n",
        "  code here\n",
        "else:\n",
        "  code here\n",
        "\n",
        "```\n",
        "\n",
        "Comparators could be: ==, !=, >, >=, <, <=, not, in, and so on."
      ],
      "metadata": {
        "id": "mN8VNobRTW6u"
      }
    },
    {
      "cell_type": "code",
      "source": [
        "if res ==  2:\n",
        "  print('The result is {0}'.format(res))\n",
        "else:\n",
        "  print('The result is different than 1')\n"
      ],
      "metadata": {
        "colab": {
          "base_uri": "https://localhost:8080/"
        },
        "id": "xEpTXUHkTtVX",
        "outputId": "97c708b6-9bb5-47db-ef3a-382b844d474c"
      },
      "execution_count": null,
      "outputs": [
        {
          "output_type": "stream",
          "name": "stdout",
          "text": [
            "The result is different than 1\n"
          ]
        }
      ]
    },
    {
      "cell_type": "markdown",
      "source": [
        "## Loops\n",
        "\n",
        "You can take where two different ways to iterate something:\n",
        "\n",
        "```\n",
        "  for variable in variables:\n",
        "    code here\n",
        "```\n",
        "\n",
        "The for sentence could take a condition or only iterate through a list until the end.\n",
        "\n",
        "```\n",
        "while condition:\n",
        "  code here\n",
        "```\n",
        "\n",
        "The while is a loop structure that runs the code until the condition fails."
      ],
      "metadata": {
        "id": "1f6qF18LU1T3"
      }
    },
    {
      "cell_type": "code",
      "source": [
        "ages = [24, 26]\n",
        "\n",
        "for age in ages:\n",
        "  print('The age is: {0}'.format(age))"
      ],
      "metadata": {
        "colab": {
          "base_uri": "https://localhost:8080/"
        },
        "id": "S19vK-4PU0LU",
        "outputId": "d64cb5cd-175d-4e2e-916c-95775aed4068"
      },
      "execution_count": null,
      "outputs": [
        {
          "output_type": "stream",
          "name": "stdout",
          "text": [
            "The age is: 24\n",
            "The age is: 26\n"
          ]
        }
      ]
    },
    {
      "cell_type": "markdown",
      "source": [
        "# Exercise\n",
        "\n",
        "1. Given a color, return True if it is 'blue' or False otherwise\n",
        "2. Given a list of names, print all of it"
      ],
      "metadata": {
        "id": "XFIkMh3sWVYj"
      }
    },
    {
      "cell_type": "code",
      "source": [
        "def check_color(color): \n",
        "  if color == 'blue': \n",
        "    return True \n",
        "  else: \n",
        "    return False \n",
        "  \n",
        "check_color('red')\n",
        "check_color('blue')"
      ],
      "metadata": {
        "id": "3OVlWQIdWyrS",
        "colab": {
          "base_uri": "https://localhost:8080/"
        },
        "outputId": "5fd9b50d-b45b-47eb-ba62-f98c6dd615b9"
      },
      "execution_count": null,
      "outputs": [
        {
          "output_type": "execute_result",
          "data": {
            "text/plain": [
              "True"
            ]
          },
          "metadata": {},
          "execution_count": 18
        }
      ]
    },
    {
      "cell_type": "code",
      "source": [
        "names = ['Pepe', 'Juana', 'Pedro']\n",
        "\n",
        "def show_names(nombres):\n",
        "  for name in nombres:\n",
        "    print('Name is: {0}'.format(name))\n",
        "\n",
        "show_names(names)"
      ],
      "metadata": {
        "id": "4NfoaKf6ZyRE",
        "colab": {
          "base_uri": "https://localhost:8080/"
        },
        "outputId": "e3de0af6-4297-4e50-ac10-2250c59d8974"
      },
      "execution_count": null,
      "outputs": [
        {
          "output_type": "stream",
          "name": "stdout",
          "text": [
            "Name is: Pepe\n",
            "Name is: Juana\n",
            "Name is: Pedro\n"
          ]
        }
      ]
    },
    {
      "cell_type": "markdown",
      "source": [
        "3. Given a country, return True if it is 'Spain' or False otherwise\n",
        "4. Given a list of colours, print the color if it is 'blue'"
      ],
      "metadata": {
        "id": "dfb0oAndb5N3"
      }
    },
    {
      "cell_type": "code",
      "source": [
        "def is_spain(country):\n",
        "  if country == 'Spain':\n",
        "    return True\n",
        "  else: \n",
        "    return False \n",
        "print(is_spain('Spain'))\n",
        "print(is_spain('France'))\n"
      ],
      "metadata": {
        "colab": {
          "base_uri": "https://localhost:8080/"
        },
        "id": "5VN4c6V2ca6P",
        "outputId": "8d88489b-52c1-4db3-dd59-32db0bb7e3e7"
      },
      "execution_count": null,
      "outputs": [
        {
          "output_type": "stream",
          "name": "stdout",
          "text": [
            "True\n",
            "False\n"
          ]
        }
      ]
    },
    {
      "cell_type": "code",
      "source": [
        "colours = ['Pink', 'Green', 'Yellow', 'Blue']\n",
        " \n",
        "def is_blue(colores):\n",
        "  for colour in colores:\n",
        "    if colour.lower() == 'blue':\n",
        "      print('The color is: {0}'.format(colour))\n",
        "  print('There is no blue color in the list')\n",
        "\n",
        "is_blue(colours)\n",
        "\n"
      ],
      "metadata": {
        "colab": {
          "base_uri": "https://localhost:8080/"
        },
        "id": "uy5uNX-ndi6d",
        "outputId": "eabceb5e-49b6-4735-f501-aa2d5ee10ba4"
      },
      "execution_count": null,
      "outputs": [
        {
          "output_type": "stream",
          "name": "stdout",
          "text": [
            "The color is: Blue\n"
          ]
        }
      ]
    },
    {
      "cell_type": "markdown",
      "source": [
        "# Data structures\n",
        "\n",
        "There are a different set of structures to load, transform and transfer data:\n",
        "\n",
        "* Tuples\n",
        "* Dictionaries\n",
        "* Lists"
      ],
      "metadata": {
        "id": "321ooHFDLr8h"
      }
    },
    {
      "cell_type": "code",
      "source": [
        "# Tuples\n",
        "\n",
        "person_tupple = ('Name', 'Surname', 24)\n",
        "print(person_tupple)\n",
        "\n",
        "print('The name of the person is: {0}'.format(person_tupple[0]))\n",
        "print('The age of the person is: {0}'.format(person_tupple[2]))\n",
        "\n",
        "# It throws an error. Not allowed assignment\n",
        "#person_tupple[2] = 25\n",
        "\n",
        "# Dictionary\n",
        "\n",
        "person_dict = {\n",
        "    'name': 'Maria',\n",
        "    'surname': 'Mateu',\n",
        "    'age': 24\n",
        "}\n",
        "\n",
        "print('The name of person is: {0}'.format(person_dict['name']))\n",
        "\n",
        "person_dict['age'] = 25\n",
        "\n",
        "print('The age of person is: {0}'.format(person_dict['age']))\n",
        "# Lists\n",
        "\n",
        "ages_list = [20, 21, 22]\n",
        "\n",
        "print(ages_list[0])\n",
        "\n",
        "ages_list[1] = 30\n",
        "\n",
        "print(ages_list[1])\n",
        "\n"
      ],
      "metadata": {
        "colab": {
          "base_uri": "https://localhost:8080/"
        },
        "id": "bjPigSrtNwqX",
        "outputId": "ef297ea3-b62b-4f92-8d83-276709b8028e"
      },
      "execution_count": null,
      "outputs": [
        {
          "output_type": "stream",
          "name": "stdout",
          "text": [
            "('Name', 'Surname', 24)\n",
            "The name of the person is: Name\n",
            "The age of the person is: 24\n",
            "The name of person is: Maria\n",
            "The age of person is: 25\n",
            "20\n",
            "30\n"
          ]
        }
      ]
    },
    {
      "cell_type": "markdown",
      "source": [
        "## Exercise\n",
        "\n",
        "1. Create a function that given a name, surname and country returns a dictionary with the data.\n",
        "\n",
        "2. Create a function that given a name, surname and country returns a tupple with the data.\n",
        "\n",
        "3. Create a function that given dictionary by parameter with name, surname and country, updates the country with 'Spain' value and return the updated dictionary."
      ],
      "metadata": {
        "id": "rn50n5h4RC1b"
      }
    },
    {
      "cell_type": "code",
      "source": [
        "#Exercise 1\n",
        "def return_dictionary(name, surname, country):\n",
        " person_dict = {\n",
        "  'name': name ,\n",
        "  'surname': surname ,\n",
        "  'country': country ,\n",
        " }\n",
        " return person_dict\n",
        "return_dictionary('Fran', 'Moreno', 'Spain')"
      ],
      "metadata": {
        "colab": {
          "base_uri": "https://localhost:8080/"
        },
        "id": "Q7XARLH4RBpb",
        "outputId": "db211bce-2188-4b06-fea8-f131ccae6ea9"
      },
      "execution_count": null,
      "outputs": [
        {
          "output_type": "execute_result",
          "data": {
            "text/plain": [
              "{'country': 'Spain', 'name': 'Fran', 'surname': 'Moreno'}"
            ]
          },
          "metadata": {},
          "execution_count": 10
        }
      ]
    },
    {
      "cell_type": "code",
      "source": [
        "# Exercise 2\n",
        "def return_tupple(name, surname, country):\n",
        "   person_tupple = (name, surname, country)\n",
        "   return person_tupple\n",
        "\n",
        "return_tupple('Fran', 'Moreno', 'Spain')\n"
      ],
      "metadata": {
        "colab": {
          "base_uri": "https://localhost:8080/"
        },
        "id": "IOSmBxMfUaIh",
        "outputId": "d0feaa23-095a-41a0-b2d5-47398ece3de1"
      },
      "execution_count": null,
      "outputs": [
        {
          "output_type": "execute_result",
          "data": {
            "text/plain": [
              "('Fran', 'Moreno', 'Spain')"
            ]
          },
          "metadata": {},
          "execution_count": 11
        }
      ]
    },
    {
      "cell_type": "code",
      "source": [
        "# Exercise 3\n",
        "def update_country(person_dict):\n",
        "  person_dict['country'] = 'Spain'\n",
        "  return person_dict\n",
        "\n",
        "update_country({'name': 'Fran', 'surname': 'Moreno', 'country': 'France'})"
      ],
      "metadata": {
        "id": "F8LYnY8UU1j2",
        "colab": {
          "base_uri": "https://localhost:8080/"
        },
        "outputId": "56414c4f-fa45-4301-982b-3016627170e5"
      },
      "execution_count": null,
      "outputs": [
        {
          "output_type": "execute_result",
          "data": {
            "text/plain": [
              "{'country': 'Spain', 'name': 'Fran', 'surname': 'Moreno'}"
            ]
          },
          "metadata": {},
          "execution_count": 12
        }
      ]
    },
    {
      "cell_type": "markdown",
      "source": [
        "# Dataframes\n",
        "\n",
        "Like a table, with rows and columns (e.g. as in SQL).  Except:\n",
        "  - The rows can be indexed by something interesting (there is special support for labels like categorical and timeseries data).  This is especially useful when you have timeseries data with potentially missing data points.\n",
        "  - Cells can store Python objects. Like in SQL, columns are type homogeneous.\n",
        "  - Instead of \"NULL\", the name for a non-existent value is \"NA\".  Unlike R, Python's data frames only support NAs in columns of some data types (basically: floating point numbers and 'objects') -- but this is mostly a non-issue (because it will \"up-cast\" integers to float64, etc.)\n",
        "  \n",
        "### Data Series:\n",
        "\n",
        "These are named columns of a DataFrame (more correctly, a dataframe is a dictionary of Series).  The entries of the series have homogenous type."
      ],
      "metadata": {
        "id": "-UqyB9IU5Bg2"
      }
    },
    {
      "cell_type": "code",
      "source": [
        "import pandas as pd\n",
        "import numpy as np\n",
        "import matplotlib.pyplot as plt\n",
        "import seaborn as sns\n",
        "import re\n",
        "\n",
        "# a data frame\n",
        "df1 = pd.DataFrame({\n",
        "    'number': [1, 2, 3],\n",
        "    'animal': ['cat', 'dog', 'mouse']\n",
        "})\n",
        "\n",
        "df1"
      ],
      "metadata": {
        "colab": {
          "base_uri": "https://localhost:8080/",
          "height": 142
        },
        "id": "swiH811i5K15",
        "outputId": "3c206bf2-9605-410a-d6e0-3bc7dc690e7c"
      },
      "execution_count": null,
      "outputs": [
        {
          "output_type": "execute_result",
          "data": {
            "text/plain": [
              "   number animal\n",
              "0       1    cat\n",
              "1       2    dog\n",
              "2       3  mouse"
            ],
            "text/html": [
              "\n",
              "  <div id=\"df-829ffad6-342e-41fb-a0bb-e648ceebc135\">\n",
              "    <div class=\"colab-df-container\">\n",
              "      <div>\n",
              "<style scoped>\n",
              "    .dataframe tbody tr th:only-of-type {\n",
              "        vertical-align: middle;\n",
              "    }\n",
              "\n",
              "    .dataframe tbody tr th {\n",
              "        vertical-align: top;\n",
              "    }\n",
              "\n",
              "    .dataframe thead th {\n",
              "        text-align: right;\n",
              "    }\n",
              "</style>\n",
              "<table border=\"1\" class=\"dataframe\">\n",
              "  <thead>\n",
              "    <tr style=\"text-align: right;\">\n",
              "      <th></th>\n",
              "      <th>number</th>\n",
              "      <th>animal</th>\n",
              "    </tr>\n",
              "  </thead>\n",
              "  <tbody>\n",
              "    <tr>\n",
              "      <th>0</th>\n",
              "      <td>1</td>\n",
              "      <td>cat</td>\n",
              "    </tr>\n",
              "    <tr>\n",
              "      <th>1</th>\n",
              "      <td>2</td>\n",
              "      <td>dog</td>\n",
              "    </tr>\n",
              "    <tr>\n",
              "      <th>2</th>\n",
              "      <td>3</td>\n",
              "      <td>mouse</td>\n",
              "    </tr>\n",
              "  </tbody>\n",
              "</table>\n",
              "</div>\n",
              "      <button class=\"colab-df-convert\" onclick=\"convertToInteractive('df-829ffad6-342e-41fb-a0bb-e648ceebc135')\"\n",
              "              title=\"Convert this dataframe to an interactive table.\"\n",
              "              style=\"display:none;\">\n",
              "        \n",
              "  <svg xmlns=\"http://www.w3.org/2000/svg\" height=\"24px\"viewBox=\"0 0 24 24\"\n",
              "       width=\"24px\">\n",
              "    <path d=\"M0 0h24v24H0V0z\" fill=\"none\"/>\n",
              "    <path d=\"M18.56 5.44l.94 2.06.94-2.06 2.06-.94-2.06-.94-.94-2.06-.94 2.06-2.06.94zm-11 1L8.5 8.5l.94-2.06 2.06-.94-2.06-.94L8.5 2.5l-.94 2.06-2.06.94zm10 10l.94 2.06.94-2.06 2.06-.94-2.06-.94-.94-2.06-.94 2.06-2.06.94z\"/><path d=\"M17.41 7.96l-1.37-1.37c-.4-.4-.92-.59-1.43-.59-.52 0-1.04.2-1.43.59L10.3 9.45l-7.72 7.72c-.78.78-.78 2.05 0 2.83L4 21.41c.39.39.9.59 1.41.59.51 0 1.02-.2 1.41-.59l7.78-7.78 2.81-2.81c.8-.78.8-2.07 0-2.86zM5.41 20L4 18.59l7.72-7.72 1.47 1.35L5.41 20z\"/>\n",
              "  </svg>\n",
              "      </button>\n",
              "      \n",
              "  <style>\n",
              "    .colab-df-container {\n",
              "      display:flex;\n",
              "      flex-wrap:wrap;\n",
              "      gap: 12px;\n",
              "    }\n",
              "\n",
              "    .colab-df-convert {\n",
              "      background-color: #E8F0FE;\n",
              "      border: none;\n",
              "      border-radius: 50%;\n",
              "      cursor: pointer;\n",
              "      display: none;\n",
              "      fill: #1967D2;\n",
              "      height: 32px;\n",
              "      padding: 0 0 0 0;\n",
              "      width: 32px;\n",
              "    }\n",
              "\n",
              "    .colab-df-convert:hover {\n",
              "      background-color: #E2EBFA;\n",
              "      box-shadow: 0px 1px 2px rgba(60, 64, 67, 0.3), 0px 1px 3px 1px rgba(60, 64, 67, 0.15);\n",
              "      fill: #174EA6;\n",
              "    }\n",
              "\n",
              "    [theme=dark] .colab-df-convert {\n",
              "      background-color: #3B4455;\n",
              "      fill: #D2E3FC;\n",
              "    }\n",
              "\n",
              "    [theme=dark] .colab-df-convert:hover {\n",
              "      background-color: #434B5C;\n",
              "      box-shadow: 0px 1px 3px 1px rgba(0, 0, 0, 0.15);\n",
              "      filter: drop-shadow(0px 1px 2px rgba(0, 0, 0, 0.3));\n",
              "      fill: #FFFFFF;\n",
              "    }\n",
              "  </style>\n",
              "\n",
              "      <script>\n",
              "        const buttonEl =\n",
              "          document.querySelector('#df-829ffad6-342e-41fb-a0bb-e648ceebc135 button.colab-df-convert');\n",
              "        buttonEl.style.display =\n",
              "          google.colab.kernel.accessAllowed ? 'block' : 'none';\n",
              "\n",
              "        async function convertToInteractive(key) {\n",
              "          const element = document.querySelector('#df-829ffad6-342e-41fb-a0bb-e648ceebc135');\n",
              "          const dataTable =\n",
              "            await google.colab.kernel.invokeFunction('convertToInteractive',\n",
              "                                                     [key], {});\n",
              "          if (!dataTable) return;\n",
              "\n",
              "          const docLinkHtml = 'Like what you see? Visit the ' +\n",
              "            '<a target=\"_blank\" href=https://colab.research.google.com/notebooks/data_table.ipynb>data table notebook</a>'\n",
              "            + ' to learn more about interactive tables.';\n",
              "          element.innerHTML = '';\n",
              "          dataTable['output_type'] = 'display_data';\n",
              "          await google.colab.output.renderOutput(dataTable, element);\n",
              "          const docLink = document.createElement('div');\n",
              "          docLink.innerHTML = docLinkHtml;\n",
              "          element.appendChild(docLink);\n",
              "        }\n",
              "      </script>\n",
              "    </div>\n",
              "  </div>\n",
              "  "
            ]
          },
          "metadata": {},
          "execution_count": 13
        }
      ]
    },
    {
      "cell_type": "markdown",
      "source": [
        "If you want to select a column it is as simple like:"
      ],
      "metadata": {
        "id": "bKFFNlRe5SPc"
      }
    },
    {
      "cell_type": "code",
      "source": [
        "# Option 1\n",
        "df1['animal']\n",
        "\n",
        "#Option 2\n",
        "df1.animal"
      ],
      "metadata": {
        "colab": {
          "base_uri": "https://localhost:8080/"
        },
        "id": "r0qNCtrC5XNK",
        "outputId": "1609573f-dea6-4e6b-d454-25f1627ebcf9"
      },
      "execution_count": null,
      "outputs": [
        {
          "output_type": "execute_result",
          "data": {
            "text/plain": [
              "0      cat\n",
              "1      dog\n",
              "2    mouse\n",
              "Name: animal, dtype: object"
            ]
          },
          "metadata": {},
          "execution_count": 14
        }
      ]
    },
    {
      "cell_type": "markdown",
      "source": [
        "If you need to check the column types:"
      ],
      "metadata": {
        "id": "CKgdbhDw5jRj"
      }
    },
    {
      "cell_type": "code",
      "source": [
        "df1.dtypes"
      ],
      "metadata": {
        "colab": {
          "base_uri": "https://localhost:8080/"
        },
        "id": "b12x3w_S5lm8",
        "outputId": "bf6e158b-c99f-4daa-871e-f0956dfafc22"
      },
      "execution_count": null,
      "outputs": [
        {
          "output_type": "execute_result",
          "data": {
            "text/plain": [
              "number     int64\n",
              "animal    object\n",
              "dtype: object"
            ]
          },
          "metadata": {},
          "execution_count": 15
        }
      ]
    },
    {
      "cell_type": "markdown",
      "source": [
        "If you need to change a column type:"
      ],
      "metadata": {
        "id": "UQjIXnO-5sJH"
      }
    },
    {
      "cell_type": "code",
      "source": [
        "df1['number'] = df1['number'].astype(float)\n",
        "df1"
      ],
      "metadata": {
        "colab": {
          "base_uri": "https://localhost:8080/",
          "height": 142
        },
        "id": "XyyelUxe5wCO",
        "outputId": "63362668-fede-4656-af4a-7249bee832a2"
      },
      "execution_count": null,
      "outputs": [
        {
          "output_type": "execute_result",
          "data": {
            "text/plain": [
              "   number animal\n",
              "0     1.0    cat\n",
              "1     2.0    dog\n",
              "2     3.0  mouse"
            ],
            "text/html": [
              "\n",
              "  <div id=\"df-fb751466-24a1-4fbf-89e9-2fb043638734\">\n",
              "    <div class=\"colab-df-container\">\n",
              "      <div>\n",
              "<style scoped>\n",
              "    .dataframe tbody tr th:only-of-type {\n",
              "        vertical-align: middle;\n",
              "    }\n",
              "\n",
              "    .dataframe tbody tr th {\n",
              "        vertical-align: top;\n",
              "    }\n",
              "\n",
              "    .dataframe thead th {\n",
              "        text-align: right;\n",
              "    }\n",
              "</style>\n",
              "<table border=\"1\" class=\"dataframe\">\n",
              "  <thead>\n",
              "    <tr style=\"text-align: right;\">\n",
              "      <th></th>\n",
              "      <th>number</th>\n",
              "      <th>animal</th>\n",
              "    </tr>\n",
              "  </thead>\n",
              "  <tbody>\n",
              "    <tr>\n",
              "      <th>0</th>\n",
              "      <td>1.0</td>\n",
              "      <td>cat</td>\n",
              "    </tr>\n",
              "    <tr>\n",
              "      <th>1</th>\n",
              "      <td>2.0</td>\n",
              "      <td>dog</td>\n",
              "    </tr>\n",
              "    <tr>\n",
              "      <th>2</th>\n",
              "      <td>3.0</td>\n",
              "      <td>mouse</td>\n",
              "    </tr>\n",
              "  </tbody>\n",
              "</table>\n",
              "</div>\n",
              "      <button class=\"colab-df-convert\" onclick=\"convertToInteractive('df-fb751466-24a1-4fbf-89e9-2fb043638734')\"\n",
              "              title=\"Convert this dataframe to an interactive table.\"\n",
              "              style=\"display:none;\">\n",
              "        \n",
              "  <svg xmlns=\"http://www.w3.org/2000/svg\" height=\"24px\"viewBox=\"0 0 24 24\"\n",
              "       width=\"24px\">\n",
              "    <path d=\"M0 0h24v24H0V0z\" fill=\"none\"/>\n",
              "    <path d=\"M18.56 5.44l.94 2.06.94-2.06 2.06-.94-2.06-.94-.94-2.06-.94 2.06-2.06.94zm-11 1L8.5 8.5l.94-2.06 2.06-.94-2.06-.94L8.5 2.5l-.94 2.06-2.06.94zm10 10l.94 2.06.94-2.06 2.06-.94-2.06-.94-.94-2.06-.94 2.06-2.06.94z\"/><path d=\"M17.41 7.96l-1.37-1.37c-.4-.4-.92-.59-1.43-.59-.52 0-1.04.2-1.43.59L10.3 9.45l-7.72 7.72c-.78.78-.78 2.05 0 2.83L4 21.41c.39.39.9.59 1.41.59.51 0 1.02-.2 1.41-.59l7.78-7.78 2.81-2.81c.8-.78.8-2.07 0-2.86zM5.41 20L4 18.59l7.72-7.72 1.47 1.35L5.41 20z\"/>\n",
              "  </svg>\n",
              "      </button>\n",
              "      \n",
              "  <style>\n",
              "    .colab-df-container {\n",
              "      display:flex;\n",
              "      flex-wrap:wrap;\n",
              "      gap: 12px;\n",
              "    }\n",
              "\n",
              "    .colab-df-convert {\n",
              "      background-color: #E8F0FE;\n",
              "      border: none;\n",
              "      border-radius: 50%;\n",
              "      cursor: pointer;\n",
              "      display: none;\n",
              "      fill: #1967D2;\n",
              "      height: 32px;\n",
              "      padding: 0 0 0 0;\n",
              "      width: 32px;\n",
              "    }\n",
              "\n",
              "    .colab-df-convert:hover {\n",
              "      background-color: #E2EBFA;\n",
              "      box-shadow: 0px 1px 2px rgba(60, 64, 67, 0.3), 0px 1px 3px 1px rgba(60, 64, 67, 0.15);\n",
              "      fill: #174EA6;\n",
              "    }\n",
              "\n",
              "    [theme=dark] .colab-df-convert {\n",
              "      background-color: #3B4455;\n",
              "      fill: #D2E3FC;\n",
              "    }\n",
              "\n",
              "    [theme=dark] .colab-df-convert:hover {\n",
              "      background-color: #434B5C;\n",
              "      box-shadow: 0px 1px 3px 1px rgba(0, 0, 0, 0.15);\n",
              "      filter: drop-shadow(0px 1px 2px rgba(0, 0, 0, 0.3));\n",
              "      fill: #FFFFFF;\n",
              "    }\n",
              "  </style>\n",
              "\n",
              "      <script>\n",
              "        const buttonEl =\n",
              "          document.querySelector('#df-fb751466-24a1-4fbf-89e9-2fb043638734 button.colab-df-convert');\n",
              "        buttonEl.style.display =\n",
              "          google.colab.kernel.accessAllowed ? 'block' : 'none';\n",
              "\n",
              "        async function convertToInteractive(key) {\n",
              "          const element = document.querySelector('#df-fb751466-24a1-4fbf-89e9-2fb043638734');\n",
              "          const dataTable =\n",
              "            await google.colab.kernel.invokeFunction('convertToInteractive',\n",
              "                                                     [key], {});\n",
              "          if (!dataTable) return;\n",
              "\n",
              "          const docLinkHtml = 'Like what you see? Visit the ' +\n",
              "            '<a target=\"_blank\" href=https://colab.research.google.com/notebooks/data_table.ipynb>data table notebook</a>'\n",
              "            + ' to learn more about interactive tables.';\n",
              "          element.innerHTML = '';\n",
              "          dataTable['output_type'] = 'display_data';\n",
              "          await google.colab.output.renderOutput(dataTable, element);\n",
              "          const docLink = document.createElement('div');\n",
              "          docLink.innerHTML = docLinkHtml;\n",
              "          element.appendChild(docLink);\n",
              "        }\n",
              "      </script>\n",
              "    </div>\n",
              "  </div>\n",
              "  "
            ]
          },
          "metadata": {},
          "execution_count": 17
        }
      ]
    },
    {
      "cell_type": "markdown",
      "source": [
        "## Reading data from a file\n",
        "\n",
        "Pandas allow to read files from different formats:\n",
        "\n",
        "* JSON\n",
        "* CSV\n",
        "* HTML\n",
        "* XML\n",
        "\n",
        "and more.\n",
        "\n",
        "If you want to read a new one, you can do it as follows:\n",
        "\n",
        "```\n",
        "  # To read a CSV file\n",
        "  df = pd.read_csv('filename')\n",
        "```"
      ],
      "metadata": {
        "id": "qrtGDubt57po"
      }
    }
  ]
}